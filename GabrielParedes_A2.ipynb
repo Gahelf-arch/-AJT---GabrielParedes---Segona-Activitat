{
 "cells": [
  {
   "cell_type": "markdown",
   "id": "ec31ad98",
   "metadata": {},
   "source": [
    "Exercici 1)"
   ]
  },
  {
   "cell_type": "markdown",
   "id": "221fb480",
   "metadata": {},
   "source": [
    "1)"
   ]
  },
  {
   "cell_type": "code",
   "execution_count": 7,
   "id": "034d3173",
   "metadata": {},
   "outputs": [
    {
     "name": "stdout",
     "output_type": "stream",
     "text": [
      "[0, 1, 2, 3, 4, 5, 6, 7, 8, 9, 10, 11, 12, 13, 14, 15, 16, 17, 18, 19, 20, 21, 22, 23, 24, 25, 26, 27, 28, 29, 30, 31, 32, 33, 34, 35, 36, 37, 38, 39, 40, 41, 42, 43, 44, 45, 46, 47, 48, 49, 50, 51, 52, 53, 54, 55, 56, 57, 58, 59, 60, 61, 62, 63, 64, 65, 66, 67, 68, 69, 70, 71, 72, 73, 74, 75, 76, 77, 78, 79, 80, 81, 82, 83, 84, 85, 86, 87, 88, 89, 90, 91, 92, 93, 94, 95, 96, 97, 98, 99, 100]\n"
     ]
    }
   ],
   "source": [
    "llista_radis = list(range(101))\n",
    "print(llista_radis)"
   ]
  },
  {
   "cell_type": "markdown",
   "id": "ee979026",
   "metadata": {},
   "source": [
    "2)"
   ]
  },
  {
   "cell_type": "code",
   "execution_count": 9,
   "id": "6df7dc2d",
   "metadata": {},
   "outputs": [
    {
     "name": "stdout",
     "output_type": "stream",
     "text": [
      "[0, 6, 13, 19, 25, 31, 38, 44, 50, 57, 63, 69, 75, 82, 88, 94, 101, 107, 113, 119, 126, 132, 138, 145, 151, 157, 163, 170, 176, 182, 188, 195, 201, 207, 214, 220, 226, 232, 239, 245, 251, 258, 264, 270, 276, 283, 289, 295, 302, 308, 314, 320, 327, 333, 339, 346, 352, 358, 364, 371, 377, 383, 390, 396, 402, 408, 415, 421, 427, 434, 440, 446, 452, 459, 465, 471, 478, 484, 490, 496, 503, 509, 515, 522, 528, 534, 540, 547, 553, 559, 565, 572, 578, 584, 591, 597, 603, 609, 616, 622, 628]\n"
     ]
    }
   ],
   "source": [
    "import math\n",
    "math.pi\n",
    "llista_perimetres = [round(2 * math.pi * radi) for radi in llista_radis]\n",
    "print(llista_perimetres)"
   ]
  },
  {
   "cell_type": "code",
   "execution_count": 10,
   "id": "69c7d817",
   "metadata": {},
   "outputs": [
    {
     "name": "stdout",
     "output_type": "stream",
     "text": [
      "[0, 3, 13, 28, 50, 79, 113, 154, 201, 254, 314, 380, 452, 531, 616, 707, 804, 908, 1018, 1134, 1257, 1385, 1521, 1662, 1810, 1963, 2124, 2290, 2463, 2642, 2827, 3019, 3217, 3421, 3632, 3848, 4072, 4301, 4536, 4778, 5027, 5281, 5542, 5809, 6082, 6362, 6648, 6940, 7238, 7543, 7854, 8171, 8495, 8825, 9161, 9503, 9852, 10207, 10568, 10936, 11310, 11690, 12076, 12469, 12868, 13273, 13685, 14103, 14527, 14957, 15394, 15837, 16286, 16742, 17203, 17671, 18146, 18627, 19113, 19607, 20106, 20612, 21124, 21642, 22167, 22698, 23235, 23779, 24328, 24885, 25447, 26016, 26590, 27172, 27759, 28353, 28953, 29559, 30172, 30791, 31416]\n"
     ]
    }
   ],
   "source": [
    "llista_areas = [round(math.pi * radi**2) for radi in llista_radis]\n",
    "print(llista_areas)"
   ]
  },
  {
   "cell_type": "code",
   "execution_count": 11,
   "id": "868de5b2",
   "metadata": {},
   "outputs": [
    {
     "name": "stdout",
     "output_type": "stream",
     "text": [
      "[0, 4, 34, 113, 268, 524, 905, 1437, 2145, 3054, 4189, 5575, 7238, 9203, 11494, 14137, 17157, 20580, 24429, 28731, 33510, 38792, 44602, 50965, 57906, 65450, 73622, 82448, 91952, 102160, 113097, 124788, 137258, 150533, 164636, 179594, 195432, 212175, 229847, 248475, 268083, 288696, 310339, 333038, 356818, 381704, 407720, 434893, 463247, 492807, 523599, 555647, 588977, 623615, 659584, 696910, 735619, 775735, 817283, 860290, 904779, 950776, 998306, 1047394, 1098066, 1150347, 1204260, 1259833, 1317090, 1376055, 1436755, 1499214, 1563458, 1629511, 1697398, 1767146, 1838778, 1912321, 1987799, 2065237, 2144661, 2226095, 2309565, 2395096, 2482713, 2572441, 2664305, 2758331, 2854543, 2952967, 3053628, 3156551, 3261761, 3369283, 3479142, 3591364, 3705973, 3822996, 3942456, 4064379, 4188790]\n"
     ]
    }
   ],
   "source": [
    "llista_volums = [round((4/3) * math.pi * radi**3) for radi in llista_radis]\n",
    "print(llista_volums)"
   ]
  },
  {
   "cell_type": "markdown",
   "id": "ddb2e3e4",
   "metadata": {},
   "source": [
    "3)"
   ]
  },
  {
   "cell_type": "code",
   "execution_count": 12,
   "id": "3912e70f",
   "metadata": {},
   "outputs": [
    {
     "name": "stdout",
     "output_type": "stream",
     "text": [
      "[0, 13, 25, 38, 50, 63, 75, 88, 101, 113, 126, 138, 151, 163, 176, 188, 201, 214, 226, 239, 251, 264, 276, 289, 302, 314, 327, 339, 352, 364, 377, 390, 402, 415, 427, 440, 452, 465, 478, 490, 503, 515, 528, 540, 553, 565, 578, 591, 603, 616, 628]\n"
     ]
    }
   ],
   "source": [
    "llista_perimetresparrell = [round(2 * math.pi * radi) for radi in llista_radis if radi % 2 == 0]\n",
    "print(llista_perimetresparrell)"
   ]
  },
  {
   "cell_type": "code",
   "execution_count": 15,
   "id": "8e80fb62",
   "metadata": {},
   "outputs": [
    {
     "name": "stdout",
     "output_type": "stream",
     "text": [
      "[0, 28, 113, 254, 452, 707, 1018, 1385, 1810, 2290, 2827, 3421, 4072, 4778, 5542, 6362, 7238, 8171, 9161, 10207, 11310, 12469, 13685, 14957, 16286, 17671, 19113, 20612, 22167, 23779, 25447, 27172, 28953, 30791]\n"
     ]
    }
   ],
   "source": [
    "llista_areasmultiplesde3 = [round(math.pi * radi**2) for radi in llista_radis if radi % 3 == 0]\n",
    "print(llista_areasmultiplesde3)"
   ]
  },
  {
   "cell_type": "code",
   "execution_count": 18,
   "id": "47713972",
   "metadata": {},
   "outputs": [
    {
     "name": "stdout",
     "output_type": "stream",
     "text": [
      "[3705973, 3822996, 3942456, 4064379, 4188790]\n"
     ]
    }
   ],
   "source": [
    "llista_volumsultims5 = [round((4/3) * math.pi * radi**3) for radi in llista_radis[-5:]]\n",
    "print(llista_volumsultims5)"
   ]
  },
  {
   "cell_type": "markdown",
   "id": "18272b1f",
   "metadata": {},
   "source": [
    "2)"
   ]
  },
  {
   "cell_type": "markdown",
   "id": "057782f6",
   "metadata": {},
   "source": [
    "a)"
   ]
  },
  {
   "cell_type": "code",
   "execution_count": 33,
   "id": "00739b34",
   "metadata": {},
   "outputs": [
    {
     "name": "stdout",
     "output_type": "stream",
     "text": [
      "[' anna ', 'MARC', 'joan ', ' Laia']\n"
     ]
    }
   ],
   "source": [
    "noms = [\" anna \", \"MARC\", \"joan \", \" Laia\"]\n",
    "print(noms)"
   ]
  },
  {
   "cell_type": "code",
   "execution_count": 34,
   "id": "20903084",
   "metadata": {},
   "outputs": [
    {
     "name": "stdout",
     "output_type": "stream",
     "text": [
      "['anna', 'MARC', 'joan', 'Laia']\n"
     ]
    }
   ],
   "source": [
    "noms_nets = [nom.strip() for nom in noms]\n",
    "print(noms_nets)"
   ]
  },
  {
   "cell_type": "markdown",
   "id": "4d32abd7",
   "metadata": {},
   "source": [
    "b)"
   ]
  },
  {
   "cell_type": "code",
   "execution_count": 35,
   "id": "24be5da8",
   "metadata": {},
   "outputs": [
    {
     "name": "stdout",
     "output_type": "stream",
     "text": [
      "['Anna', 'Marc', 'Joan', 'Laia']\n"
     ]
    }
   ],
   "source": [
    "noms_nets_2 = [nom.strip().capitalize() for nom in noms]\n",
    "print(noms_nets_2)"
   ]
  },
  {
   "cell_type": "markdown",
   "id": "aaf2cad6",
   "metadata": {},
   "source": [
    "c)"
   ]
  },
  {
   "cell_type": "code",
   "execution_count": 36,
   "id": "a525ebb1",
   "metadata": {},
   "outputs": [
    {
     "name": "stdout",
     "output_type": "stream",
     "text": [
      "[6, 4, 5, 5]\n"
     ]
    }
   ],
   "source": [
    "llargades_originals = [len(nom) for nom in noms]\n",
    "print(llargades_originals)"
   ]
  },
  {
   "cell_type": "markdown",
   "id": "08e5bfe1",
   "metadata": {},
   "source": [
    "d)"
   ]
  },
  {
   "cell_type": "code",
   "execution_count": 37,
   "id": "492cb378",
   "metadata": {},
   "outputs": [
    {
     "name": "stdout",
     "output_type": "stream",
     "text": [
      "[4, 4, 4, 4]\n"
     ]
    }
   ],
   "source": [
    "llargades_finals = [len(noms_nets) for nom in noms]\n",
    "print(llargades_finals)"
   ]
  },
  {
   "cell_type": "markdown",
   "id": "a7049836",
   "metadata": {},
   "source": [
    "e)"
   ]
  },
  {
   "cell_type": "code",
   "execution_count": 46,
   "id": "9570d21d",
   "metadata": {},
   "outputs": [
    {
     "name": "stdout",
     "output_type": "stream",
     "text": [
      "2 1\n"
     ]
    }
   ],
   "source": [
    "diferencies_anna = len(noms[0]) - len(noms_nets[0])\n",
    "diferencia_joan = len(noms[2]) - len(noms_nets[2])\n",
    "print(diferencies_anna, diferencia_joan)"
   ]
  },
  {
   "cell_type": "markdown",
   "id": "628779b2",
   "metadata": {},
   "source": [
    "3)"
   ]
  },
  {
   "cell_type": "code",
   "execution_count": 52,
   "id": "a85837ab",
   "metadata": {},
   "outputs": [],
   "source": [
    "alumne = {\"nom\":[\"Adrian\" , \"Deza\", \"Zumarán\"], \n",
    "          \"curs\": \"1r de Batx\", \n",
    "          \"notes\":{\"T1\":{\"CAT\": [8, 3, 4, 6, 7], \"CAS\": [3, 5, 6, 6, 8], \"MAT\": [7, 8, 9, 5, 6]},\n",
    "                   \"T2\":{\"CAT\": [6, 5, 4, 2, 7], \"CAS\": [7, 8, 9, 8, 10], \"MAT\": [5, 6, 7, 8, 9]},\n",
    "                   \"T3\":{\"CAT\": [9, 8, 7, 2, 3], \"CAS\": [6, 5, 4, 3, 2], \"MAT\": [8, 9, 10, 10, 10]}}}"
   ]
  },
  {
   "cell_type": "code",
   "execution_count": 53,
   "id": "53e94799",
   "metadata": {},
   "outputs": [
    {
     "name": "stdout",
     "output_type": "stream",
     "text": [
      "8\n"
     ]
    }
   ],
   "source": [
    "print(alumne[\"notes\"][\"T1\"][\"CAS\"][-1])"
   ]
  },
  {
   "cell_type": "code",
   "execution_count": 50,
   "id": "552db89a",
   "metadata": {},
   "outputs": [
    {
     "name": "stdout",
     "output_type": "stream",
     "text": [
      "5\n"
     ]
    }
   ],
   "source": [
    "print(len(alumne[\"notes\"][\"T2\"][\"CAT\"]))"
   ]
  },
  {
   "cell_type": "code",
   "execution_count": 51,
   "id": "1ebfbd07",
   "metadata": {},
   "outputs": [
    {
     "name": "stdout",
     "output_type": "stream",
     "text": [
      "['Adrian', 'Deza', 'Zumarán']\n"
     ]
    }
   ],
   "source": [
    "print(alumne[\"nom\"])"
   ]
  },
  {
   "cell_type": "code",
   "execution_count": 54,
   "id": "4f337317",
   "metadata": {},
   "outputs": [
    {
     "name": "stdout",
     "output_type": "stream",
     "text": [
      "9.4\n"
     ]
    }
   ],
   "source": [
    "suma =sum(alumne[\"notes\"][\"T3\"][\"MAT\"])\n",
    "n_notes = len(alumne[\"notes\"][\"T3\"][\"MAT\"])\n",
    "print(suma / n_notes)"
   ]
  },
  {
   "cell_type": "markdown",
   "id": "3f583b61",
   "metadata": {},
   "source": [
    "4)"
   ]
  },
  {
   "cell_type": "code",
   "execution_count": 13,
   "id": "b18ae429",
   "metadata": {},
   "outputs": [],
   "source": [
    "a = [1, 2, 1]\n",
    "b = [-1, 1, 2]  "
   ]
  },
  {
   "cell_type": "code",
   "execution_count": 14,
   "id": "f9eb1bf7",
   "metadata": {},
   "outputs": [
    {
     "name": "stdout",
     "output_type": "stream",
     "text": [
      "[0, 3, 3]\n"
     ]
    }
   ],
   "source": [
    "c0 = a[0] + b[0]\n",
    "c1 = a[1] + b[1]\n",
    "c2 = a[2] + b[2]\n",
    "c = [c0, c1, c2]\n",
    "print(c)"
   ]
  },
  {
   "cell_type": "code",
   "execution_count": 33,
   "id": "2aed45dc",
   "metadata": {},
   "outputs": [
    {
     "name": "stdout",
     "output_type": "stream",
     "text": [
      "[-1, -1, 3, 5, 2]\n"
     ]
    }
   ],
   "source": [
    "d0 = a[0] * b[0]\n",
    "d1 = a[0] * b[1] + a[1] * b[0]\n",
    "d2 = a[1] * b[1] + a[2] * b[0] + a[0] * b[2]\n",
    "d3 = a[1] * b[2] + a[2] * b[1]\n",
    "d4 = a[2] * b[2]\n",
    "d = [d0, d1, d2, d3, d4]\n",
    "print(d)"
   ]
  },
  {
   "cell_type": "code",
   "execution_count": null,
   "id": "fa58b69e",
   "metadata": {},
   "outputs": [],
   "source": [
    "\"hola\""
   ]
  }
 ],
 "metadata": {
  "kernelspec": {
   "display_name": ".venv",
   "language": "python",
   "name": "python3"
  },
  "language_info": {
   "codemirror_mode": {
    "name": "ipython",
    "version": 3
   },
   "file_extension": ".py",
   "mimetype": "text/x-python",
   "name": "python",
   "nbconvert_exporter": "python",
   "pygments_lexer": "ipython3",
   "version": "3.13.7"
  }
 },
 "nbformat": 4,
 "nbformat_minor": 5
}
